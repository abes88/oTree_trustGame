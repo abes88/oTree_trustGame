{
 "cells": [
  {
   "cell_type": "markdown",
   "metadata": {},
   "source": [
    "# Aisling Experiment Estimation"
   ]
  },
  {
   "cell_type": "code",
   "execution_count": 1,
   "metadata": {
    "collapsed": false
   },
   "outputs": [],
   "source": [
    "import numpy as np\n",
    "import pert"
   ]
  },
  {
   "cell_type": "markdown",
   "metadata": {},
   "source": [
    "Task dictionary, every key is a task and every body is a tuple with the `(o, p, m)`\n",
    "\n",
    "Where:\n",
    "\n",
    "- optimistic time (O): the minimum possible time required to accomplish a\n",
    "  task, assuming everything proceeds better than is normally expected\n",
    "- pessimistic time (P): the maximum possible time required to accomplish a\n",
    "  task, assuming everything goes wrong (but excluding major catastrophes).\n",
    "- most likely time (M): the best estimate of the time required to\n",
    "  accomplish a task, assuming everything proceeds as normal."
   ]
  },
  {
   "cell_type": "markdown",
   "metadata": {},
   "source": [
    "All times are expresed in **hours**"
   ]
  },
  {
   "cell_type": "code",
   "execution_count": 2,
   "metadata": {
    "collapsed": true
   },
   "outputs": [],
   "source": [
    "fee = 25. # dollars per hour\n",
    "\n",
    "tasks = {\n",
    "    \"How I Am Screen\": (2, 3, 2),\n",
    "    \"Dictator Game Only Players A\": (4, 8, 5),\n",
    "    \"GSS Attitudinal Screen\": (2, 3, 2),\n",
    "    \"Holt-Laury\": (3, 4, 3),\n",
    "    \"Dynamic Asignation Trust Game\": (6, 8, 6),\n",
    "}"
   ]
  },
  {
   "cell_type": "markdown",
   "metadata": {},
   "source": [
    "### Expected time by taks"
   ]
  },
  {
   "cell_type": "markdown",
   "metadata": {},
   "source": [
    "the best estimate of the time required to accomplish a\n",
    "task, accounting for the fact that things don't always proceed as normal\n",
    "(the implication being that the expected time is the average time the\n",
    "task would require if the task were repeated on a number of occasions over\n",
    "an extended period of time).\n",
    "\n",
    "```\n",
    "TE = (O + 4M + P) / 6\n",
    "```"
   ]
  },
  {
   "cell_type": "code",
   "execution_count": 3,
   "metadata": {
    "collapsed": false
   },
   "outputs": [
    {
     "name": "stdout",
     "output_type": "stream",
     "text": [
      " Dynamic Asignation Trust Game - 6.33 hs\n",
      "               How I Am Screen - 2.17 hs\n",
      "                    Holt-Laury - 3.17 hs\n",
      "        GSS Attitudinal Screen - 2.17 hs\n",
      "  Dictator Game Only Players A - 5.33 hs\n"
     ]
    }
   ],
   "source": [
    "for k, v in tasks.items():\n",
    "    print k.rjust(30), \"-\", \"%.2f hs\" % pert.expect(*v)"
   ]
  },
  {
   "cell_type": "markdown",
   "metadata": {},
   "source": [
    "### Global Estimation\n",
    "\n",
    "Create a estimation for a set of values. This return three range of values with probablilities of 68.2%, 95.4%, 99.7%"
   ]
  },
  {
   "cell_type": "code",
   "execution_count": 4,
   "metadata": {
    "collapsed": false
   },
   "outputs": [],
   "source": [
    "optimists = [v[0] for v in tasks.values()]\n",
    "pesimists = [v[1] for v in tasks.values()]\n",
    "most_likely = [v[2] for v in tasks.values()]"
   ]
  },
  {
   "cell_type": "code",
   "execution_count": 5,
   "metadata": {
    "collapsed": false
   },
   "outputs": [
    {
     "name": "stdout",
     "output_type": "stream",
     "text": [
      "With 68.2% of probability the project will be ended in between 17.67 and 22.17 hours\n",
      "With 95.4% of probability the project will be ended in between 16.17 and 22.17 hours\n",
      "With 99.7% of probability the project will be ended in between 14.67 and 23.67 hours\n"
     ]
    }
   ],
   "source": [
    "probs = pert.estimate(optimists, pesimists, most_likely)\n",
    "\n",
    "print(\n",
    "    \"With {0}% of probability the project will be ended in between {1:.2f} and {2:.2f} hours\"\n",
    ").format(\"68.2\", *probs[0])\n",
    "print(\n",
    "    \"With {0}% of probability the project will be ended in between {1:.2f} and {2:.2f} hours\"\n",
    ").format(\"95.4\", *probs[1])\n",
    "print(\n",
    "    \"With {0}% of probability the project will be ended in between {1:.2f} and {2:.2f} hours\"\n",
    ").format(\"99.7\", *probs[2])"
   ]
  },
  {
   "cell_type": "markdown",
   "metadata": {},
   "source": [
    "### Conclusion"
   ]
  },
  {
   "cell_type": "code",
   "execution_count": 6,
   "metadata": {
    "collapsed": false
   },
   "outputs": [
    {
     "name": "stdout",
     "output_type": "stream",
     "text": [
      "The project will be made in a range between of 17.67 (worst best) and 23.67 (best worst) hours\n",
      "In money the project will cost in between 441.67 usd and 591.67 usd\n"
     ]
    }
   ],
   "source": [
    "limits = (probs[0][0], probs[2][1])\n",
    "costs = (probs[0][0] * fee, probs[2][1] * fee)\n",
    "print(\n",
    "    \"The project will be made in a range between of {0:.2f} (worst best) and {1:.2f} (best worst) hours\"\n",
    ").format(*limits)\n",
    "print(\"In money the project will cost in between {0:.2f} usd and {1:.2f} usd\".format(*costs))"
   ]
  },
  {
   "cell_type": "code",
   "execution_count": 7,
   "metadata": {
    "collapsed": false
   },
   "outputs": [
    {
     "data": {
      "text/plain": [
       "'2016-08-22T02:53:19.135925'"
      ]
     },
     "execution_count": 7,
     "metadata": {},
     "output_type": "execute_result"
    }
   ],
   "source": [
    "import datetime; datetime.datetime.now().isoformat()"
   ]
  },
  {
   "cell_type": "markdown",
   "metadata": {
    "collapsed": true
   },
   "source": [
    "**An estimation is not a deadline**"
   ]
  },
  {
   "cell_type": "code",
   "execution_count": null,
   "metadata": {
    "collapsed": true
   },
   "outputs": [],
   "source": []
  },
  {
   "cell_type": "code",
   "execution_count": null,
   "metadata": {
    "collapsed": true
   },
   "outputs": [],
   "source": []
  }
 ],
 "metadata": {
  "kernelspec": {
   "display_name": "Python 2",
   "language": "python",
   "name": "python2"
  },
  "language_info": {
   "codemirror_mode": {
    "name": "ipython",
    "version": 2
   },
   "file_extension": ".py",
   "mimetype": "text/x-python",
   "name": "python",
   "nbconvert_exporter": "python",
   "pygments_lexer": "ipython2",
   "version": "2.7.10"
  }
 },
 "nbformat": 4,
 "nbformat_minor": 0
}
